{
 "cells": [
  {
   "cell_type": "markdown",
   "id": "7a15b7a8-b062-45c5-9430-d7a07387f20d",
   "metadata": {},
   "source": [
    "### Problem Statement:\n",
    "#### You are given a set of customer reviews. Your task is to perform the following:\n",
    "##### - Tokenize the text into words.\n",
    "##### - Remove stopwords.\n",
    "##### - Perform lemmatization.\n",
    "##### - Identify the most common words used across all reviews.\n",
    "### Dataset (Sample Reviews):\n",
    "#### pythonCopyEditreviews = [\n",
    "    \"The product quality is amazing! I love it.\",\n",
    "    \"Absolutely terrible experience. The service was bad.\",\n",
    "    \"Great product and fast delivery. Highly recommended!\",\n",
    "    \"The product was okay, but I expected better quality.\",\n",
    "    \"Worst experience ever. Never buying again.\"\n",
    "]\n",
    " "
   ]
  },
  {
   "cell_type": "code",
   "execution_count": 3,
   "id": "9f5c1d70-2532-48b1-8650-9d58d613f780",
   "metadata": {},
   "outputs": [],
   "source": [
    "import nltk\n",
    "from nltk.tokenize import word_tokenize\n",
    "from nltk.corpus import stopwords\n",
    "from nltk.stem import WordNetLemmatizer\n",
    "from collections import Counter\n",
    "import string"
   ]
  },
  {
   "cell_type": "code",
   "execution_count": 5,
   "id": "825bd782-0607-4d12-95cb-34ed7054b008",
   "metadata": {},
   "outputs": [],
   "source": [
    "# Sample dataset\n",
    "reviews = [\n",
    "    \"The product quality is amazing! I love it.\",\n",
    "    \"Absolutely terrible experience. The service was bad.\",\n",
    "    \"Great product and fast delivery. Highly recommended!\",\n",
    "    \"The product was okay, but I expected better quality.\",\n",
    "    \"Worst experience ever. Never buying again.\"\n",
    "]"
   ]
  },
  {
   "cell_type": "code",
   "execution_count": 13,
   "id": "26dfdb5b-5c05-4fb6-bb93-76697d3c85f4",
   "metadata": {},
   "outputs": [
    {
     "name": "stderr",
     "output_type": "stream",
     "text": [
      "[nltk_data] Downloading package punkt to\n",
      "[nltk_data]     /Users/nabinagahatraj/nltk_data...\n",
      "[nltk_data]   Package punkt is already up-to-date!\n",
      "[nltk_data] Downloading package stopwords to\n",
      "[nltk_data]     /Users/nabinagahatraj/nltk_data...\n",
      "[nltk_data]   Package stopwords is already up-to-date!\n",
      "[nltk_data] Downloading package wordnet to\n",
      "[nltk_data]     /Users/nabinagahatraj/nltk_data...\n",
      "[nltk_data]   Package wordnet is already up-to-date!\n",
      "[nltk_data] Downloading package punkt_tab to\n",
      "[nltk_data]     /Users/nabinagahatraj/nltk_data...\n",
      "[nltk_data]   Unzipping tokenizers/punkt_tab.zip.\n"
     ]
    },
    {
     "data": {
      "text/plain": [
       "True"
      ]
     },
     "execution_count": 13,
     "metadata": {},
     "output_type": "execute_result"
    }
   ],
   "source": [
    "# Download necessary NLTK resources\n",
    "nltk.download('punkt')\n",
    "nltk.download('stopwords')\n",
    "nltk.download('wordnet')\n",
    "nltk.download('punkt_tab')\n"
   ]
  },
  {
   "cell_type": "code",
   "execution_count": 9,
   "id": "0022e84c-007a-46c7-b7c3-4a6ae632b21f",
   "metadata": {},
   "outputs": [],
   "source": [
    "# Initialize tools\n",
    "stop_words = set(stopwords.words('english'))\n",
    "lemmatizer = WordNetLemmatizer()"
   ]
  },
  {
   "cell_type": "code",
   "execution_count": 15,
   "id": "49c7bbda-7770-45f8-8a95-2b2a27ca1bd3",
   "metadata": {},
   "outputs": [],
   "source": [
    "# Process reviews\n",
    "tokens = []\n",
    "for review in reviews:\n",
    "    words = word_tokenize(review.lower())     # Tokenization & Lowercasing\n",
    "    words = [word for word in words if word.isalnum()]       # Remove punctuation\n",
    "    words = [word for word in words if word not in stop_words]     # Remove stopwords\n",
    "    words = [lemmatizer.lemmatize(word) for word in words]    # Lemmatization\n",
    "    tokens.extend(words)"
   ]
  },
  {
   "cell_type": "code",
   "execution_count": 17,
   "id": "9cbc62e3-6d64-44c5-a347-6e0dd801309c",
   "metadata": {},
   "outputs": [
    {
     "name": "stdout",
     "output_type": "stream",
     "text": [
      "Most common words: [('product', 3), ('quality', 2), ('experience', 2), ('amazing', 1), ('love', 1)]\n"
     ]
    }
   ],
   "source": [
    "# Identify most common words\n",
    "word_counts = Counter(tokens)\n",
    "most_common_words = word_counts.most_common(5)  # Get top 5 most common words\n",
    "\n",
    "# Output results\n",
    "print(\"Most common words:\", most_common_words)"
   ]
  },
  {
   "cell_type": "markdown",
   "id": "520384a3-63c9-4441-b325-91cbe243a223",
   "metadata": {},
   "source": [
    "### So the most common words used across all reviews were \n",
    "#### - Product\n",
    "#### - Quality\n",
    "#### - Experience\n",
    "#### - Amazing\n",
    "#### - Love\n"
   ]
  },
  {
   "cell_type": "code",
   "execution_count": null,
   "id": "a8e148da-ff17-4fbf-b475-176aa84c537a",
   "metadata": {},
   "outputs": [],
   "source": []
  }
 ],
 "metadata": {
  "kernelspec": {
   "display_name": "Python [conda env:base] *",
   "language": "python",
   "name": "conda-base-py"
  },
  "language_info": {
   "codemirror_mode": {
    "name": "ipython",
    "version": 3
   },
   "file_extension": ".py",
   "mimetype": "text/x-python",
   "name": "python",
   "nbconvert_exporter": "python",
   "pygments_lexer": "ipython3",
   "version": "3.12.7"
  }
 },
 "nbformat": 4,
 "nbformat_minor": 5
}
